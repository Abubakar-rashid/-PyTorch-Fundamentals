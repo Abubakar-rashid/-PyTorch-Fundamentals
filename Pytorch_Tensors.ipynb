{
  "nbformat": 4,
  "nbformat_minor": 0,
  "metadata": {
    "colab": {
      "provenance": [],
      "gpuType": "T4"
    },
    "kernelspec": {
      "name": "python3",
      "display_name": "Python 3"
    },
    "language_info": {
      "name": "python"
    },
    "accelerator": "GPU"
  },
  "cells": [
    {
      "cell_type": "code",
      "execution_count": 1,
      "metadata": {
        "colab": {
          "base_uri": "https://localhost:8080/"
        },
        "id": "394M5TmlSLyv",
        "outputId": "c8b0a283-6055-406e-e8d4-895f92860b1b"
      },
      "outputs": [
        {
          "output_type": "stream",
          "name": "stdout",
          "text": [
            "2.6.0+cu124\n"
          ]
        }
      ],
      "source": [
        "import torch\n",
        "print(torch.__version__)"
      ]
    },
    {
      "cell_type": "code",
      "source": [
        "if torch.cuda.is_available():\n",
        "  print(\"GPU is available\")\n",
        "  print(f\"Name : {torch.cuda.get_device_name()}\")\n",
        "else:\n",
        "  print(\"GPU is not available\")"
      ],
      "metadata": {
        "colab": {
          "base_uri": "https://localhost:8080/"
        },
        "id": "42s0s1LoSWfV",
        "outputId": "0f7087c7-8386-4876-faef-93e125aee132"
      },
      "execution_count": 2,
      "outputs": [
        {
          "output_type": "stream",
          "name": "stdout",
          "text": [
            "GPU is available\n",
            "Name : Tesla T4\n"
          ]
        }
      ]
    },
    {
      "cell_type": "markdown",
      "source": [
        "#### Allocate space , the values that are showing are garbage values"
      ],
      "metadata": {
        "id": "rYzYMTEDVHk8"
      }
    },
    {
      "cell_type": "code",
      "source": [
        "torch.empty(3,2)"
      ],
      "metadata": {
        "colab": {
          "base_uri": "https://localhost:8080/"
        },
        "id": "vlL0XvqlTbjq",
        "outputId": "f9ba9f02-c3a1-4030-a423-694f865c532a"
      },
      "execution_count": 3,
      "outputs": [
        {
          "output_type": "execute_result",
          "data": {
            "text/plain": [
              "tensor([[0., 0.],\n",
              "        [0., 0.],\n",
              "        [0., 0.]])"
            ]
          },
          "metadata": {},
          "execution_count": 3
        }
      ]
    },
    {
      "cell_type": "code",
      "source": [
        "torch.ones(2,3)"
      ],
      "metadata": {
        "colab": {
          "base_uri": "https://localhost:8080/"
        },
        "id": "6F4EYeVgVGeb",
        "outputId": "5e9fa0e9-928b-4b68-cc14-a918f5f19cb1"
      },
      "execution_count": 4,
      "outputs": [
        {
          "output_type": "execute_result",
          "data": {
            "text/plain": [
              "tensor([[1., 1., 1.],\n",
              "        [1., 1., 1.]])"
            ]
          },
          "metadata": {},
          "execution_count": 4
        }
      ]
    },
    {
      "cell_type": "code",
      "source": [
        "torch.zeros(1,4)"
      ],
      "metadata": {
        "colab": {
          "base_uri": "https://localhost:8080/"
        },
        "id": "--wUoCPtVRjw",
        "outputId": "58216cf8-66d4-4489-9b5c-6a6e7cfbd65c"
      },
      "execution_count": 5,
      "outputs": [
        {
          "output_type": "execute_result",
          "data": {
            "text/plain": [
              "tensor([[0., 0., 0., 0.]])"
            ]
          },
          "metadata": {},
          "execution_count": 5
        }
      ]
    },
    {
      "cell_type": "code",
      "source": [
        "torch.rand(2,3)"
      ],
      "metadata": {
        "colab": {
          "base_uri": "https://localhost:8080/"
        },
        "id": "dn5EPF4HVUEr",
        "outputId": "26ae084b-8d2a-4cbc-9782-6f9d76d99e70"
      },
      "execution_count": 6,
      "outputs": [
        {
          "output_type": "execute_result",
          "data": {
            "text/plain": [
              "tensor([[0.2971, 0.6229, 0.2235],\n",
              "        [0.8639, 0.0999, 0.2027]])"
            ]
          },
          "metadata": {},
          "execution_count": 6
        }
      ]
    },
    {
      "cell_type": "markdown",
      "source": [
        "#### define a random seed"
      ],
      "metadata": {
        "id": "1El94xDnWOU4"
      }
    },
    {
      "cell_type": "code",
      "source": [
        "torch.manual_seed(100)"
      ],
      "metadata": {
        "colab": {
          "base_uri": "https://localhost:8080/"
        },
        "id": "JquJBfvvVoMC",
        "outputId": "5b5b9281-2c60-43f8-bde4-512389796802"
      },
      "execution_count": 7,
      "outputs": [
        {
          "output_type": "execute_result",
          "data": {
            "text/plain": [
              "<torch._C.Generator at 0x792285329090>"
            ]
          },
          "metadata": {},
          "execution_count": 7
        }
      ]
    },
    {
      "cell_type": "code",
      "source": [
        "torch.rand(2,3)"
      ],
      "metadata": {
        "colab": {
          "base_uri": "https://localhost:8080/"
        },
        "id": "yFZ5xRmJWUNG",
        "outputId": "c2270005-b964-4bab-8a9c-ea64e291d742"
      },
      "execution_count": 8,
      "outputs": [
        {
          "output_type": "execute_result",
          "data": {
            "text/plain": [
              "tensor([[0.1117, 0.8158, 0.2626],\n",
              "        [0.4839, 0.6765, 0.7539]])"
            ]
          },
          "metadata": {},
          "execution_count": 8
        }
      ]
    },
    {
      "cell_type": "code",
      "source": [
        "torch.tensor([1,2,3])"
      ],
      "metadata": {
        "colab": {
          "base_uri": "https://localhost:8080/"
        },
        "id": "xrlK7Kn0WWIO",
        "outputId": "0d8041af-462c-4e11-fb06-e01aaa75e609"
      },
      "execution_count": 9,
      "outputs": [
        {
          "output_type": "execute_result",
          "data": {
            "text/plain": [
              "tensor([1, 2, 3])"
            ]
          },
          "metadata": {},
          "execution_count": 9
        }
      ]
    },
    {
      "cell_type": "code",
      "source": [
        "torch.tensor([[1,23,4],[23,4,5]])"
      ],
      "metadata": {
        "colab": {
          "base_uri": "https://localhost:8080/"
        },
        "id": "3FUjeeOrWySI",
        "outputId": "3ad4aac2-a59f-40df-e882-fd5903b99d79"
      },
      "execution_count": 10,
      "outputs": [
        {
          "output_type": "execute_result",
          "data": {
            "text/plain": [
              "tensor([[ 1, 23,  4],\n",
              "        [23,  4,  5]])"
            ]
          },
          "metadata": {},
          "execution_count": 10
        }
      ]
    },
    {
      "cell_type": "code",
      "source": [
        "torch.arange(0,11,2)"
      ],
      "metadata": {
        "colab": {
          "base_uri": "https://localhost:8080/"
        },
        "id": "ziXpcub0W1-z",
        "outputId": "0fd8abdd-1191-4143-cf79-94cfedc8bcc0"
      },
      "execution_count": 11,
      "outputs": [
        {
          "output_type": "execute_result",
          "data": {
            "text/plain": [
              "tensor([ 0,  2,  4,  6,  8, 10])"
            ]
          },
          "metadata": {},
          "execution_count": 11
        }
      ]
    },
    {
      "cell_type": "code",
      "source": [
        "torch.linspace(0,11,4)"
      ],
      "metadata": {
        "colab": {
          "base_uri": "https://localhost:8080/"
        },
        "id": "APPBZHKtXTnn",
        "outputId": "6c8d0044-0603-4055-e67a-958c5e36ceb5"
      },
      "execution_count": 12,
      "outputs": [
        {
          "output_type": "execute_result",
          "data": {
            "text/plain": [
              "tensor([ 0.0000,  3.6667,  7.3333, 11.0000])"
            ]
          },
          "metadata": {},
          "execution_count": 12
        }
      ]
    },
    {
      "cell_type": "code",
      "source": [
        "torch.eye(3)"
      ],
      "metadata": {
        "colab": {
          "base_uri": "https://localhost:8080/"
        },
        "id": "ynCVFN8nXa3s",
        "outputId": "2cd3dcf2-9b7f-4fa5-c18a-6cda851597a4"
      },
      "execution_count": 13,
      "outputs": [
        {
          "output_type": "execute_result",
          "data": {
            "text/plain": [
              "tensor([[1., 0., 0.],\n",
              "        [0., 1., 0.],\n",
              "        [0., 0., 1.]])"
            ]
          },
          "metadata": {},
          "execution_count": 13
        }
      ]
    },
    {
      "cell_type": "code",
      "source": [
        "torch.full((3,3),5)"
      ],
      "metadata": {
        "colab": {
          "base_uri": "https://localhost:8080/"
        },
        "id": "VEOtshnlX0N2",
        "outputId": "2d230af7-936d-44ba-de36-c11167d0ce5a"
      },
      "execution_count": 14,
      "outputs": [
        {
          "output_type": "execute_result",
          "data": {
            "text/plain": [
              "tensor([[5, 5, 5],\n",
              "        [5, 5, 5],\n",
              "        [5, 5, 5]])"
            ]
          },
          "metadata": {},
          "execution_count": 14
        }
      ]
    },
    {
      "cell_type": "code",
      "source": [
        "x = torch.tensor([[1,2,3],[4,5,6]])\n",
        "torch.ones_like(x)\n"
      ],
      "metadata": {
        "colab": {
          "base_uri": "https://localhost:8080/"
        },
        "id": "sRBl0ms4X3Dk",
        "outputId": "568152f2-4a50-4410-b61a-46fb61bf998e"
      },
      "execution_count": 15,
      "outputs": [
        {
          "output_type": "execute_result",
          "data": {
            "text/plain": [
              "tensor([[1, 1, 1],\n",
              "        [1, 1, 1]])"
            ]
          },
          "metadata": {},
          "execution_count": 15
        }
      ]
    },
    {
      "cell_type": "code",
      "source": [
        "torch.zeros_like(x)"
      ],
      "metadata": {
        "colab": {
          "base_uri": "https://localhost:8080/"
        },
        "id": "lBmQ_WHkYtQz",
        "outputId": "6e95f54c-df45-462a-bce8-be9450bfaa1d"
      },
      "execution_count": 16,
      "outputs": [
        {
          "output_type": "execute_result",
          "data": {
            "text/plain": [
              "tensor([[0, 0, 0],\n",
              "        [0, 0, 0]])"
            ]
          },
          "metadata": {},
          "execution_count": 16
        }
      ]
    },
    {
      "cell_type": "code",
      "source": [
        "torch.empty_like(x)"
      ],
      "metadata": {
        "colab": {
          "base_uri": "https://localhost:8080/"
        },
        "id": "EeoQYHBCYwNA",
        "outputId": "278a69c2-d3f7-476d-8db7-be662effec73"
      },
      "execution_count": 17,
      "outputs": [
        {
          "output_type": "execute_result",
          "data": {
            "text/plain": [
              "tensor([[133182640881670,       162430608,     64424510548],\n",
              "        [      162430480,               6,       162430640]])"
            ]
          },
          "metadata": {},
          "execution_count": 17
        }
      ]
    },
    {
      "cell_type": "code",
      "source": [
        "torch.rand_like(x , dtype=torch.float32)"
      ],
      "metadata": {
        "colab": {
          "base_uri": "https://localhost:8080/"
        },
        "id": "cBq4zdhWcSJa",
        "outputId": "c9b2c36b-8d54-457a-c2f1-a2a5a1edb8aa"
      },
      "execution_count": 18,
      "outputs": [
        {
          "output_type": "execute_result",
          "data": {
            "text/plain": [
              "tensor([[0.2627, 0.0428, 0.2080],\n",
              "        [0.1180, 0.1217, 0.7356]])"
            ]
          },
          "metadata": {},
          "execution_count": 18
        }
      ]
    },
    {
      "cell_type": "markdown",
      "source": [
        "### Tensor data types\n"
      ],
      "metadata": {
        "id": "xY720OxOY__S"
      }
    },
    {
      "cell_type": "code",
      "source": [
        "x.dtype"
      ],
      "metadata": {
        "colab": {
          "base_uri": "https://localhost:8080/"
        },
        "id": "bbI9sPahYzJU",
        "outputId": "9836ee2f-c4d1-4447-e609-2a08923bde44"
      },
      "execution_count": 19,
      "outputs": [
        {
          "output_type": "execute_result",
          "data": {
            "text/plain": [
              "torch.int64"
            ]
          },
          "metadata": {},
          "execution_count": 19
        }
      ]
    },
    {
      "cell_type": "code",
      "source": [
        "x = torch.tensor([1,23,4],dtype=torch.int32) # you have to specify the dtype as rand generates values btw 0 - 1 and x has int values"
      ],
      "metadata": {
        "id": "WZYOXGq7ZGHB"
      },
      "execution_count": 20,
      "outputs": []
    },
    {
      "cell_type": "code",
      "source": [
        "x.to(torch.float32)"
      ],
      "metadata": {
        "colab": {
          "base_uri": "https://localhost:8080/"
        },
        "id": "1l6T_RKTb0u8",
        "outputId": "0113a1c7-6b42-4dd9-d968-85de1306831e"
      },
      "execution_count": 21,
      "outputs": [
        {
          "output_type": "execute_result",
          "data": {
            "text/plain": [
              "tensor([ 1., 23.,  4.])"
            ]
          },
          "metadata": {},
          "execution_count": 21
        }
      ]
    },
    {
      "cell_type": "markdown",
      "source": [
        "### Arithmatic Operations"
      ],
      "metadata": {
        "id": "P6TMLLDbc6R0"
      }
    },
    {
      "cell_type": "code",
      "source": [
        "x + 2"
      ],
      "metadata": {
        "colab": {
          "base_uri": "https://localhost:8080/"
        },
        "id": "dWz4c7FucAN2",
        "outputId": "6224c321-760a-4c20-cea7-f1cbae48d395"
      },
      "execution_count": 22,
      "outputs": [
        {
          "output_type": "execute_result",
          "data": {
            "text/plain": [
              "tensor([ 3, 25,  6], dtype=torch.int32)"
            ]
          },
          "metadata": {},
          "execution_count": 22
        }
      ]
    },
    {
      "cell_type": "code",
      "source": [
        "x - 2"
      ],
      "metadata": {
        "colab": {
          "base_uri": "https://localhost:8080/"
        },
        "id": "C_oHjp-xdAIU",
        "outputId": "11fdc189-755a-4312-800f-d893ffc19b34"
      },
      "execution_count": 23,
      "outputs": [
        {
          "output_type": "execute_result",
          "data": {
            "text/plain": [
              "tensor([-1, 21,  2], dtype=torch.int32)"
            ]
          },
          "metadata": {},
          "execution_count": 23
        }
      ]
    },
    {
      "cell_type": "code",
      "source": [
        "x * 2"
      ],
      "metadata": {
        "colab": {
          "base_uri": "https://localhost:8080/"
        },
        "id": "IEqdvqCldA6_",
        "outputId": "964114cd-c0cd-4dc7-cd14-9c1fe89dfede"
      },
      "execution_count": 24,
      "outputs": [
        {
          "output_type": "execute_result",
          "data": {
            "text/plain": [
              "tensor([ 2, 46,  8], dtype=torch.int32)"
            ]
          },
          "metadata": {},
          "execution_count": 24
        }
      ]
    },
    {
      "cell_type": "code",
      "source": [
        "x / 2"
      ],
      "metadata": {
        "colab": {
          "base_uri": "https://localhost:8080/"
        },
        "id": "4xsdXDjSdCar",
        "outputId": "ece7f2fb-1ad2-47ca-fe65-0b472f15aee2"
      },
      "execution_count": 25,
      "outputs": [
        {
          "output_type": "execute_result",
          "data": {
            "text/plain": [
              "tensor([ 0.5000, 11.5000,  2.0000])"
            ]
          },
          "metadata": {},
          "execution_count": 25
        }
      ]
    },
    {
      "cell_type": "code",
      "source": [
        "x % 2"
      ],
      "metadata": {
        "colab": {
          "base_uri": "https://localhost:8080/"
        },
        "id": "6-yu_rlqdDVl",
        "outputId": "f90f723d-2129-4e41-e11e-e9bae6996034"
      },
      "execution_count": 26,
      "outputs": [
        {
          "output_type": "execute_result",
          "data": {
            "text/plain": [
              "tensor([1, 1, 0], dtype=torch.int32)"
            ]
          },
          "metadata": {},
          "execution_count": 26
        }
      ]
    },
    {
      "cell_type": "code",
      "source": [
        "## similarly we can perform operations on the two tensors\n",
        "\n",
        "x = torch.tensor([1,2,3])\n",
        "y = torch.tensor([4,5,6])\n",
        "x*y"
      ],
      "metadata": {
        "colab": {
          "base_uri": "https://localhost:8080/"
        },
        "id": "aY848iEPdF1N",
        "outputId": "514ac56e-8798-4464-f596-1422c7e112ae"
      },
      "execution_count": 27,
      "outputs": [
        {
          "output_type": "execute_result",
          "data": {
            "text/plain": [
              "tensor([ 4, 10, 18])"
            ]
          },
          "metadata": {},
          "execution_count": 27
        }
      ]
    },
    {
      "cell_type": "code",
      "source": [
        "x = torch.negative(x)\n",
        "x"
      ],
      "metadata": {
        "colab": {
          "base_uri": "https://localhost:8080/"
        },
        "id": "WXB21Juae0je",
        "outputId": "127289ac-3dd0-487e-b5ce-ee225ce730ca"
      },
      "execution_count": 28,
      "outputs": [
        {
          "output_type": "execute_result",
          "data": {
            "text/plain": [
              "tensor([-1, -2, -3])"
            ]
          },
          "metadata": {},
          "execution_count": 28
        }
      ]
    },
    {
      "cell_type": "code",
      "source": [
        "torch.abs(x)"
      ],
      "metadata": {
        "colab": {
          "base_uri": "https://localhost:8080/"
        },
        "id": "_jgvMokOfFLM",
        "outputId": "a5f77f60-aa94-48ef-aea9-a5cf76276e2f"
      },
      "execution_count": 29,
      "outputs": [
        {
          "output_type": "execute_result",
          "data": {
            "text/plain": [
              "tensor([1, 2, 3])"
            ]
          },
          "metadata": {},
          "execution_count": 29
        }
      ]
    },
    {
      "cell_type": "code",
      "source": [
        "x = torch.tensor([1.33,2.666,3.444,5.66666])\n",
        "print(torch.ceil(x))\n",
        "print(torch.floor(x))\n"
      ],
      "metadata": {
        "colab": {
          "base_uri": "https://localhost:8080/"
        },
        "id": "lk_xylwUfMyO",
        "outputId": "7d90ba7e-3a4f-46bb-dceb-8008391f8575"
      },
      "execution_count": 30,
      "outputs": [
        {
          "output_type": "stream",
          "name": "stdout",
          "text": [
            "tensor([2., 3., 4., 6.])\n",
            "tensor([1., 2., 3., 5.])\n"
          ]
        }
      ]
    },
    {
      "cell_type": "code",
      "source": [
        "torch.clamp(x,min=2,max=3)"
      ],
      "metadata": {
        "colab": {
          "base_uri": "https://localhost:8080/"
        },
        "id": "Y_41VvpWfn8S",
        "outputId": "21af6031-ad70-4089-a062-bc7d47904a27"
      },
      "execution_count": 31,
      "outputs": [
        {
          "output_type": "execute_result",
          "data": {
            "text/plain": [
              "tensor([2.0000, 2.6660, 3.0000, 3.0000])"
            ]
          },
          "metadata": {},
          "execution_count": 31
        }
      ]
    },
    {
      "cell_type": "code",
      "source": [
        "torch.randint(size=(4,3),low=3,high=8)"
      ],
      "metadata": {
        "colab": {
          "base_uri": "https://localhost:8080/"
        },
        "id": "Fn-VF24vfzsD",
        "outputId": "d31aadd2-c45f-4415-aa36-832667ff7555"
      },
      "execution_count": 32,
      "outputs": [
        {
          "output_type": "execute_result",
          "data": {
            "text/plain": [
              "tensor([[6, 6, 7],\n",
              "        [7, 4, 3],\n",
              "        [7, 6, 6],\n",
              "        [5, 7, 4]])"
            ]
          },
          "metadata": {},
          "execution_count": 32
        }
      ]
    },
    {
      "cell_type": "code",
      "source": [
        "torch.sum(torch.randint(size=(4,3),low=3,high=8))"
      ],
      "metadata": {
        "colab": {
          "base_uri": "https://localhost:8080/"
        },
        "id": "t5xGgHvwgINB",
        "outputId": "4bce92d0-88f7-4d7c-c229-489b693275e7"
      },
      "execution_count": 33,
      "outputs": [
        {
          "output_type": "execute_result",
          "data": {
            "text/plain": [
              "tensor(56)"
            ]
          },
          "metadata": {},
          "execution_count": 33
        }
      ]
    },
    {
      "cell_type": "code",
      "source": [
        "## sum along cols\n",
        "torch.sum(torch.randint(size=(4,3),low=3,high=8),dim=0)"
      ],
      "metadata": {
        "colab": {
          "base_uri": "https://localhost:8080/"
        },
        "id": "3-KzSA7zgQub",
        "outputId": "a73c444f-3221-4cce-9915-c0c0f901876c"
      },
      "execution_count": 34,
      "outputs": [
        {
          "output_type": "execute_result",
          "data": {
            "text/plain": [
              "tensor([17, 20, 26])"
            ]
          },
          "metadata": {},
          "execution_count": 34
        }
      ]
    },
    {
      "cell_type": "code",
      "source": [
        "## sum along rows\n",
        "torch.sum(torch.randint(size=(4,3),low=3,high=8),dim=1)"
      ],
      "metadata": {
        "colab": {
          "base_uri": "https://localhost:8080/"
        },
        "id": "4qQRcD7rhAk9",
        "outputId": "ced82d66-ee70-4d8c-d1ba-0bec59cd795b"
      },
      "execution_count": 35,
      "outputs": [
        {
          "output_type": "execute_result",
          "data": {
            "text/plain": [
              "tensor([18, 16, 16, 14])"
            ]
          },
          "metadata": {},
          "execution_count": 35
        }
      ]
    },
    {
      "cell_type": "code",
      "source": [
        "y = torch.sum(torch.randint(size=(4,3),low=3,high=8),dim=0,dtype=torch.float32)\n",
        "# torch.mean(y,dim=1) # works when data type of tensor is float|"
      ],
      "metadata": {
        "id": "G27L3ne8hFRZ"
      },
      "execution_count": 37,
      "outputs": []
    },
    {
      "cell_type": "code",
      "source": [
        "x = torch.tensor([[1,23,4],[3,4,5]],dtype=torch.float32)\n",
        "x"
      ],
      "metadata": {
        "colab": {
          "base_uri": "https://localhost:8080/"
        },
        "id": "NJYiy5La8VKo",
        "outputId": "af361459-3df4-4645-d125-447a4e22342c"
      },
      "execution_count": 42,
      "outputs": [
        {
          "output_type": "execute_result",
          "data": {
            "text/plain": [
              "tensor([[ 1., 23.,  4.],\n",
              "        [ 3.,  4.,  5.]])"
            ]
          },
          "metadata": {},
          "execution_count": 42
        }
      ]
    },
    {
      "cell_type": "code",
      "source": [],
      "metadata": {
        "id": "JJdmnVAUWWlq"
      },
      "execution_count": null,
      "outputs": []
    },
    {
      "cell_type": "code",
      "source": [
        "y = torch.rand_like(x,dtype=torch.float32)\n",
        "y"
      ],
      "metadata": {
        "colab": {
          "base_uri": "https://localhost:8080/"
        },
        "id": "m1iQhZpK8dQr",
        "outputId": "80654bbe-7408-4c97-bd8d-5e4970cdf9c5"
      },
      "execution_count": 43,
      "outputs": [
        {
          "output_type": "execute_result",
          "data": {
            "text/plain": [
              "tensor([[0.4393, 0.2243, 0.8935],\n",
              "        [0.0497, 0.1780, 0.3011]])"
            ]
          },
          "metadata": {},
          "execution_count": 43
        }
      ]
    },
    {
      "cell_type": "markdown",
      "source": [
        "## Inplace Operations"
      ],
      "metadata": {
        "id": "qNw-QCY99Q5p"
      }
    },
    {
      "cell_type": "code",
      "source": [
        "# y = torch.tensor([])\n",
        "x.add_(y)\n",
        "x"
      ],
      "metadata": {
        "colab": {
          "base_uri": "https://localhost:8080/"
        },
        "id": "XKMtze0s9EcD",
        "outputId": "fee6e975-75d8-4ad6-e48a-f17744ca2ee3"
      },
      "execution_count": 44,
      "outputs": [
        {
          "output_type": "execute_result",
          "data": {
            "text/plain": [
              "tensor([[ 1.4393, 23.2243,  4.8935],\n",
              "        [ 3.0497,  4.1780,  5.3011]])"
            ]
          },
          "metadata": {},
          "execution_count": 44
        }
      ]
    },
    {
      "cell_type": "code",
      "source": [
        "y.relu_()"
      ],
      "metadata": {
        "colab": {
          "base_uri": "https://localhost:8080/"
        },
        "id": "3esl5Qz69ZHs",
        "outputId": "c2f33010-2fbb-4437-8346-41b39464fcbf"
      },
      "execution_count": 45,
      "outputs": [
        {
          "output_type": "execute_result",
          "data": {
            "text/plain": [
              "tensor([[0.4393, 0.2243, 0.8935],\n",
              "        [0.0497, 0.1780, 0.3011]])"
            ]
          },
          "metadata": {},
          "execution_count": 45
        }
      ]
    },
    {
      "cell_type": "code",
      "source": [
        "y"
      ],
      "metadata": {
        "colab": {
          "base_uri": "https://localhost:8080/"
        },
        "id": "uGN9VEugWqd2",
        "outputId": "a7acf726-5810-4e25-e8ec-b98ea02e07b5"
      },
      "execution_count": 46,
      "outputs": [
        {
          "output_type": "execute_result",
          "data": {
            "text/plain": [
              "tensor([[0.4393, 0.2243, 0.8935],\n",
              "        [0.0497, 0.1780, 0.3011]])"
            ]
          },
          "metadata": {},
          "execution_count": 46
        }
      ]
    },
    {
      "cell_type": "code",
      "source": [],
      "metadata": {
        "id": "hJcaDWGEWrWz"
      },
      "execution_count": null,
      "outputs": []
    },
    {
      "cell_type": "markdown",
      "source": [
        "## Copying a tensor"
      ],
      "metadata": {
        "id": "2SCbBBSqWwK5"
      }
    },
    {
      "cell_type": "code",
      "source": [
        "## problem with normal assignment a = b is that even after assignment if b is changed then a will also change (they are at same memory location on is just a pointer)\n",
        "new_copy = x.clone()\n",
        "new_copy"
      ],
      "metadata": {
        "colab": {
          "base_uri": "https://localhost:8080/"
        },
        "id": "YlmD2w7rWy95",
        "outputId": "e9be6200-fa12-4161-a734-a17d3b4776a7"
      },
      "execution_count": 48,
      "outputs": [
        {
          "output_type": "execute_result",
          "data": {
            "text/plain": [
              "tensor([[ 1.4393, 23.2243,  4.8935],\n",
              "        [ 3.0497,  4.1780,  5.3011]])"
            ]
          },
          "metadata": {},
          "execution_count": 48
        }
      ]
    },
    {
      "cell_type": "markdown",
      "source": [
        "## Tensor Operations on GPU"
      ],
      "metadata": {
        "id": "a3wSvA9wXyX6"
      }
    },
    {
      "cell_type": "code",
      "source": [
        "if torch.cuda.is_available():\n",
        "  print(torch.cuda.get_device_name())"
      ],
      "metadata": {
        "colab": {
          "base_uri": "https://localhost:8080/"
        },
        "id": "wPe6EXGOXb8M",
        "outputId": "15b42bbe-950f-41d5-b8bc-2f3864590183"
      },
      "execution_count": 50,
      "outputs": [
        {
          "output_type": "stream",
          "name": "stdout",
          "text": [
            "Tesla T4\n"
          ]
        }
      ]
    },
    {
      "cell_type": "markdown",
      "source": [
        ">>> torch.device('cuda:0')\n",
        "device(type='cuda', index=0)\n",
        "\n",
        ">>> torch.device('cpu')\n",
        "device(type='cpu')\n",
        "\n",
        ">>> torch.device('mps')\n",
        "device(type='mps')\n",
        "\n",
        "(stands for metal performance shaders ,uses apple silicon chip(m1,m2,m3))\n",
        "\n",
        ">>> torch.device('cuda')  # current cuda device\n",
        "device(type='cuda')"
      ],
      "metadata": {
        "id": "rVRjtmyxbGNx"
      }
    },
    {
      "cell_type": "code",
      "source": [
        "## to create tensors on GUP\n",
        "device = torch.device(\"cuda\")"
      ],
      "metadata": {
        "id": "ZyLyoMVjYKli"
      },
      "execution_count": 51,
      "outputs": []
    },
    {
      "cell_type": "code",
      "source": [
        "## make a new tensor on GPU\n",
        "\n",
        "GPU_tensor = torch.zeros_like(x,device=device)"
      ],
      "metadata": {
        "id": "ed94Tm-4Y1XA"
      },
      "execution_count": 53,
      "outputs": []
    },
    {
      "cell_type": "code",
      "source": [
        "GPU_tensor"
      ],
      "metadata": {
        "colab": {
          "base_uri": "https://localhost:8080/"
        },
        "id": "VOBa8S1vZAsj",
        "outputId": "5599da39-9859-4bcd-a6d7-ad044c691ef4"
      },
      "execution_count": 54,
      "outputs": [
        {
          "output_type": "execute_result",
          "data": {
            "text/plain": [
              "tensor([[0., 0., 0.],\n",
              "        [0., 0., 0.]], device='cuda:0')"
            ]
          },
          "metadata": {},
          "execution_count": 54
        }
      ]
    },
    {
      "cell_type": "code",
      "source": [
        "## convert a tensor from CPU to GPU\n",
        "x.to(device)\n",
        "## once a tensor is made on gpu all the operations on the tensor will be performed on the GPU\n",
        "## operations on GPU will be much much more faster"
      ],
      "metadata": {
        "colab": {
          "base_uri": "https://localhost:8080/"
        },
        "id": "zojJ8XjUZIfr",
        "outputId": "82a83cc2-5e0f-436b-8262-532f471c8e2d"
      },
      "execution_count": 56,
      "outputs": [
        {
          "output_type": "execute_result",
          "data": {
            "text/plain": [
              "tensor([[ 1.4393, 23.2243,  4.8935],\n",
              "        [ 3.0497,  4.1780,  5.3011]], device='cuda:0')"
            ]
          },
          "metadata": {},
          "execution_count": 56
        }
      ]
    },
    {
      "cell_type": "markdown",
      "source": [
        "## Reshaping Tensors"
      ],
      "metadata": {
        "id": "5YYoBwMraFYc"
      }
    },
    {
      "cell_type": "code",
      "source": [
        "x = torch.rand(4,4,device=device)\n",
        "x"
      ],
      "metadata": {
        "colab": {
          "base_uri": "https://localhost:8080/"
        },
        "id": "Pjp8cE2rZWyS",
        "outputId": "117477b8-6bb6-414f-c905-2e2a6cebd5cf"
      },
      "execution_count": 58,
      "outputs": [
        {
          "output_type": "execute_result",
          "data": {
            "text/plain": [
              "tensor([[0.8344, 0.7001, 0.5361, 0.8883],\n",
              "        [0.0220, 0.7938, 0.7543, 0.6514],\n",
              "        [0.9609, 0.8294, 0.3537, 0.8665],\n",
              "        [0.2563, 0.5770, 0.0433, 0.0837]], device='cuda:0')"
            ]
          },
          "metadata": {},
          "execution_count": 58
        }
      ]
    },
    {
      "cell_type": "code",
      "source": [
        "x.reshape(2,2,2,2)"
      ],
      "metadata": {
        "colab": {
          "base_uri": "https://localhost:8080/"
        },
        "id": "4XwM2_4MafiK",
        "outputId": "d81014ff-6048-4074-8fb7-7f4776ff1162"
      },
      "execution_count": 59,
      "outputs": [
        {
          "output_type": "execute_result",
          "data": {
            "text/plain": [
              "tensor([[[[0.8344, 0.7001],\n",
              "          [0.5361, 0.8883]],\n",
              "\n",
              "         [[0.0220, 0.7938],\n",
              "          [0.7543, 0.6514]]],\n",
              "\n",
              "\n",
              "        [[[0.9609, 0.8294],\n",
              "          [0.3537, 0.8665]],\n",
              "\n",
              "         [[0.2563, 0.5770],\n",
              "          [0.0433, 0.0837]]]], device='cuda:0')"
            ]
          },
          "metadata": {},
          "execution_count": 59
        }
      ]
    },
    {
      "cell_type": "code",
      "source": [
        "x.flatten()"
      ],
      "metadata": {
        "colab": {
          "base_uri": "https://localhost:8080/"
        },
        "id": "YUrp9svvblOf",
        "outputId": "edd77fa9-dabe-4cd9-8740-24a11738ca24"
      },
      "execution_count": 60,
      "outputs": [
        {
          "output_type": "execute_result",
          "data": {
            "text/plain": [
              "tensor([0.8344, 0.7001, 0.5361, 0.8883, 0.0220, 0.7938, 0.7543, 0.6514, 0.9609,\n",
              "        0.8294, 0.3537, 0.8665, 0.2563, 0.5770, 0.0433, 0.0837],\n",
              "       device='cuda:0')"
            ]
          },
          "metadata": {},
          "execution_count": 60
        }
      ]
    },
    {
      "cell_type": "code",
      "source": [
        "y = torch.rand(2,3,4,device = device)\n",
        "y"
      ],
      "metadata": {
        "colab": {
          "base_uri": "https://localhost:8080/"
        },
        "id": "4o12xjt_bmWn",
        "outputId": "e98d225c-c960-4dba-d5c5-1f986dbbd81a"
      },
      "execution_count": 62,
      "outputs": [
        {
          "output_type": "execute_result",
          "data": {
            "text/plain": [
              "tensor([[[0.1453, 0.6715, 0.8001, 0.4194],\n",
              "         [0.1527, 0.4215, 0.1105, 0.0368],\n",
              "         [0.4229, 0.2117, 0.9307, 0.2195]],\n",
              "\n",
              "        [[0.0153, 0.3393, 0.1534, 0.2902],\n",
              "         [0.0761, 0.1064, 0.0774, 0.5652],\n",
              "         [0.6924, 0.1958, 0.2816, 0.2115]]], device='cuda:0')"
            ]
          },
          "metadata": {},
          "execution_count": 62
        }
      ]
    },
    {
      "cell_type": "code",
      "source": [
        "y.permute(1,2,0).shape"
      ],
      "metadata": {
        "colab": {
          "base_uri": "https://localhost:8080/"
        },
        "id": "e5wN6QVhb7qZ",
        "outputId": "797e8363-868e-436c-de74-5fb81ca43ef0"
      },
      "execution_count": 64,
      "outputs": [
        {
          "output_type": "execute_result",
          "data": {
            "text/plain": [
              "torch.Size([3, 4, 2])"
            ]
          },
          "metadata": {},
          "execution_count": 64
        }
      ]
    },
    {
      "cell_type": "code",
      "source": [
        "print(y.shape)\n",
        "print(y.unsqueeze(0).shape)\n",
        "print(y.unsqueeze(1).shape)\n",
        "print(y.unsqueeze(2).shape)"
      ],
      "metadata": {
        "colab": {
          "base_uri": "https://localhost:8080/"
        },
        "id": "_ylOQ0-ocxC3",
        "outputId": "a356dc81-1f51-4ffb-9c8d-9b8e3012deed"
      },
      "execution_count": 69,
      "outputs": [
        {
          "output_type": "stream",
          "name": "stdout",
          "text": [
            "torch.Size([2, 3, 4])\n",
            "torch.Size([1, 2, 3, 4])\n",
            "torch.Size([2, 1, 3, 4])\n",
            "torch.Size([2, 3, 1, 4])\n"
          ]
        }
      ]
    },
    {
      "cell_type": "code",
      "source": [
        "torch.unsqueeze(y,0)"
      ],
      "metadata": {
        "colab": {
          "base_uri": "https://localhost:8080/"
        },
        "id": "f41wsST1k2qa",
        "outputId": "4d75ee01-ea33-44e9-d769-2fabe4bd8d84"
      },
      "execution_count": 70,
      "outputs": [
        {
          "output_type": "execute_result",
          "data": {
            "text/plain": [
              "tensor([[[[0.1453, 0.6715, 0.8001, 0.4194],\n",
              "          [0.1527, 0.4215, 0.1105, 0.0368],\n",
              "          [0.4229, 0.2117, 0.9307, 0.2195]],\n",
              "\n",
              "         [[0.0153, 0.3393, 0.1534, 0.2902],\n",
              "          [0.0761, 0.1064, 0.0774, 0.5652],\n",
              "          [0.6924, 0.1958, 0.2816, 0.2115]]]], device='cuda:0')"
            ]
          },
          "metadata": {},
          "execution_count": 70
        }
      ]
    },
    {
      "cell_type": "markdown",
      "source": [
        "## Numpy to Pytorch"
      ],
      "metadata": {
        "id": "memWAG9wloO2"
      }
    },
    {
      "cell_type": "code",
      "source": [
        "## torch tensor to numpy array\n",
        "import numpy as np\n",
        "\n",
        "A = torch.tensor([1,2,3,4,5])\n",
        "B = A.numpy()\n",
        "B"
      ],
      "metadata": {
        "colab": {
          "base_uri": "https://localhost:8080/"
        },
        "id": "1J8CMT1ZleNs",
        "outputId": "e62c65f9-531c-4aa7-a0a3-94a36615d9f3"
      },
      "execution_count": 72,
      "outputs": [
        {
          "output_type": "execute_result",
          "data": {
            "text/plain": [
              "array([1, 2, 3, 4, 5])"
            ]
          },
          "metadata": {},
          "execution_count": 72
        }
      ]
    },
    {
      "cell_type": "code",
      "source": [
        "A = np.array([1,2,3,4])\n",
        "torch.from_numpy(A)"
      ],
      "metadata": {
        "colab": {
          "base_uri": "https://localhost:8080/"
        },
        "id": "dNtfa0ejl_MB",
        "outputId": "a0561298-587d-4b17-b41b-8e2c9c5fcea1"
      },
      "execution_count": 73,
      "outputs": [
        {
          "output_type": "execute_result",
          "data": {
            "text/plain": [
              "tensor([1, 2, 3, 4])"
            ]
          },
          "metadata": {},
          "execution_count": 73
        }
      ]
    },
    {
      "cell_type": "code",
      "source": [],
      "metadata": {
        "id": "nlFbQ0A7mRrw"
      },
      "execution_count": null,
      "outputs": []
    }
  ]
}